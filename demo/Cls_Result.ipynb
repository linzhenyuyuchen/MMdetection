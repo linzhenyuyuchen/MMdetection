{
 "cells": [
  {
   "cell_type": "code",
   "execution_count": 268,
   "metadata": {},
   "outputs": [],
   "source": [
    "from pycocotools.coco import COCO\n",
    "from pycocotools.cocoeval import COCOeval\n",
    "import os\n",
    "import cv2\n",
    "import numpy as np\n",
    "import matplotlib.pyplot as plt\n",
    "import pickle"
   ]
  },
  {
   "cell_type": "code",
   "execution_count": 269,
   "metadata": {},
   "outputs": [
    {
     "name": "stdout",
     "output_type": "stream",
     "text": [
      "Annotation file: /home/coco/annotations2/cocojson_val_4.json\n",
      "loading annotations into memory...\n",
      "Done (t=0.06s)\n",
      "creating index...\n",
      "index created!\n"
     ]
    }
   ],
   "source": [
    "annFile = '/home/coco/annotations2/cocojson_val_4.json'\n",
    "print(f'Annotation file: {annFile}')\n",
    "coco=COCO(annFile)"
   ]
  },
  {
   "cell_type": "code",
   "execution_count": 270,
   "metadata": {},
   "outputs": [
    {
     "name": "stdout",
     "output_type": "stream",
     "text": [
      "Prediction: 1124\n"
     ]
    }
   ],
   "source": [
    "with open(\"/home/mmdetection/work_dirs/dh_faster_rcnn_r50_fpn_1x_coco/result_12_2fen_val4.pkl\",\"rb\") as f:\n",
    "    pred = pickle.load(f)\n",
    "print(\"Prediction:\",len(pred))"
   ]
  },
  {
   "cell_type": "code",
   "execution_count": null,
   "metadata": {},
   "outputs": [],
   "source": []
  },
  {
   "cell_type": "code",
   "execution_count": 271,
   "metadata": {},
   "outputs": [],
   "source": [
    "def compute_score(origin_img_id,origin_img_id_fei):\n",
    "    thr = 0.2\n",
    "    tp = 0\n",
    "    fn = 0\n",
    "    for i in origin_img_id:\n",
    "        f = False\n",
    "        for i in pred[i][cid]:\n",
    "            if i[4]>thr:\n",
    "                f= True\n",
    "        if f:\n",
    "            tp+=1\n",
    "        else:\n",
    "            fn+=1\n",
    "    fp = 0\n",
    "    tn = 0\n",
    "    for i in origin_img_id_fei:\n",
    "        f = False\n",
    "        for i in pred[i][cid]:\n",
    "            if i[4]>thr:\n",
    "                f= True\n",
    "        if f:\n",
    "            fp +=1\n",
    "        else:\n",
    "            tn+=1\n",
    "\n",
    "    sen = tp/ (tp+fn)\n",
    "    spe = tn/ (tn+fp)\n",
    "    f1 = 2*sen*spe/(sen+spe)\n",
    "    print(\"tp,fn : \",tp,fn)\n",
    "    print(\"tn,fp : \",tn,fp)\n",
    "    print(\"Sensitivity: \",sen)\n",
    "    print(\"Specificity: \",spe)\n",
    "    print(\"F1: \",f1)"
   ]
  },
  {
   "cell_type": "code",
   "execution_count": 272,
   "metadata": {},
   "outputs": [],
   "source": [
    "def compute_score2(origin_img_id,origin_img_id_fei):\n",
    "    tp = 0\n",
    "    fn = 0\n",
    "    for i in origin_img_id:\n",
    "        if len(pred[i][cid])>0:\n",
    "            tp+=1\n",
    "        else:\n",
    "            fn+=1\n",
    "    fp = 0\n",
    "    tn = 0\n",
    "    for i in origin_img_id_fei:\n",
    "        if len(pred[i][cid])>0:\n",
    "            fp +=1\n",
    "        else:\n",
    "            tn+=1\n",
    "\n",
    "    sen = tp/ (tp+fn)\n",
    "    spe = tn/ (tn+fp)\n",
    "    f1 = 2*sen*spe/(sen+spe)\n",
    "    print(\"tp,fn : \",tp,fn)\n",
    "    print(\"tn,fp : \",tn,fp)\n",
    "    print(\"Sensitivity: \",sen)\n",
    "    print(\"Specificity: \",spe)\n",
    "    print(\"F1: \",f1)"
   ]
  },
  {
   "cell_type": "markdown",
   "metadata": {},
   "source": [
    "# 癌"
   ]
  },
  {
   "cell_type": "code",
   "execution_count": 273,
   "metadata": {},
   "outputs": [
    {
     "name": "stdout",
     "output_type": "stream",
     "text": [
      "原图共有：281张\n",
      "非-原图共有：843张\n",
      "tp,fn :  280 1\n",
      "tn,fp :  34 809\n",
      "Sensitivity:  0.99644128113879\n",
      "Specificity:  0.04033214709371293\n",
      "F1:  0.0775263239329951\n"
     ]
    }
   ],
   "source": [
    "# 获取包含0的所有图片\n",
    "cid = 0\n",
    "ids = coco.getCatIds([str(cid)])[0]\n",
    "origin_img_id = coco.catToImgs[ids]\n",
    "origin_img_id = list(set(origin_img_id))\n",
    "print(f'原图共有：{len(origin_img_id)}张')\n",
    "\n",
    "origin_img_id_fei = [i for i in range(1124) if i not in origin_img_id]\n",
    "print(f'非-原图共有：{len(origin_img_id_fei)}张')\n",
    "\n",
    "compute_score(origin_img_id,origin_img_id_fei)"
   ]
  },
  {
   "cell_type": "markdown",
   "metadata": {},
   "source": [
    "# 轻度异形"
   ]
  },
  {
   "cell_type": "code",
   "execution_count": 274,
   "metadata": {},
   "outputs": [
    {
     "name": "stdout",
     "output_type": "stream",
     "text": [
      "原图共有：845张\n",
      "非-原图共有：279张\n",
      "tp,fn :  845 0\n",
      "tn,fp :  12 267\n",
      "Sensitivity:  1.0\n",
      "Specificity:  0.043010752688172046\n",
      "F1:  0.08247422680412372\n"
     ]
    }
   ],
   "source": [
    "cid = 1\n",
    "ids = coco.getCatIds([str(cid)])[0]\n",
    "origin_img_id = coco.catToImgs[ids]\n",
    "origin_img_id = list(set(origin_img_id))\n",
    "print(f'原图共有：{len(origin_img_id)}张')\n",
    "\n",
    "origin_img_id_fei = [i for i in range(1124) if i not in origin_img_id]\n",
    "print(f'非-原图共有：{len(origin_img_id_fei)}张')\n",
    "\n",
    "compute_score(origin_img_id,origin_img_id_fei)"
   ]
  },
  {
   "cell_type": "markdown",
   "metadata": {},
   "source": [
    "# 可疑癌"
   ]
  },
  {
   "cell_type": "code",
   "execution_count": 275,
   "metadata": {},
   "outputs": [
    {
     "ename": "IndexError",
     "evalue": "list index out of range",
     "output_type": "error",
     "traceback": [
      "\u001b[0;31m---------------------------------------------------------------------------\u001b[0m",
      "\u001b[0;31mIndexError\u001b[0m                                Traceback (most recent call last)",
      "\u001b[0;32m<ipython-input-275-40ee90fbc363>\u001b[0m in \u001b[0;36m<module>\u001b[0;34m\u001b[0m\n\u001b[1;32m      1\u001b[0m \u001b[0mcid\u001b[0m \u001b[0;34m=\u001b[0m \u001b[0;36m2\u001b[0m\u001b[0;34m\u001b[0m\u001b[0;34m\u001b[0m\u001b[0m\n\u001b[0;32m----> 2\u001b[0;31m \u001b[0mids\u001b[0m \u001b[0;34m=\u001b[0m \u001b[0mcoco\u001b[0m\u001b[0;34m.\u001b[0m\u001b[0mgetCatIds\u001b[0m\u001b[0;34m(\u001b[0m\u001b[0;34m[\u001b[0m\u001b[0mstr\u001b[0m\u001b[0;34m(\u001b[0m\u001b[0mcid\u001b[0m\u001b[0;34m)\u001b[0m\u001b[0;34m]\u001b[0m\u001b[0;34m)\u001b[0m\u001b[0;34m[\u001b[0m\u001b[0;36m0\u001b[0m\u001b[0;34m]\u001b[0m\u001b[0;34m\u001b[0m\u001b[0;34m\u001b[0m\u001b[0m\n\u001b[0m\u001b[1;32m      3\u001b[0m \u001b[0morigin_img_id\u001b[0m \u001b[0;34m=\u001b[0m \u001b[0mcoco\u001b[0m\u001b[0;34m.\u001b[0m\u001b[0mcatToImgs\u001b[0m\u001b[0;34m[\u001b[0m\u001b[0mids\u001b[0m\u001b[0;34m]\u001b[0m\u001b[0;34m\u001b[0m\u001b[0;34m\u001b[0m\u001b[0m\n\u001b[1;32m      4\u001b[0m \u001b[0morigin_img_id\u001b[0m \u001b[0;34m=\u001b[0m \u001b[0mlist\u001b[0m\u001b[0;34m(\u001b[0m\u001b[0mset\u001b[0m\u001b[0;34m(\u001b[0m\u001b[0morigin_img_id\u001b[0m\u001b[0;34m)\u001b[0m\u001b[0;34m)\u001b[0m\u001b[0;34m\u001b[0m\u001b[0;34m\u001b[0m\u001b[0m\n\u001b[1;32m      5\u001b[0m \u001b[0mprint\u001b[0m\u001b[0;34m(\u001b[0m\u001b[0;34mf'原图共有：{len(origin_img_id)}张'\u001b[0m\u001b[0;34m)\u001b[0m\u001b[0;34m\u001b[0m\u001b[0;34m\u001b[0m\u001b[0m\n",
      "\u001b[0;31mIndexError\u001b[0m: list index out of range"
     ]
    }
   ],
   "source": [
    "cid = 2\n",
    "ids = coco.getCatIds([str(cid)])[0]\n",
    "origin_img_id = coco.catToImgs[ids]\n",
    "origin_img_id = list(set(origin_img_id))\n",
    "print(f'原图共有：{len(origin_img_id)}张')\n",
    "\n",
    "origin_img_id_fei = [i for i in range(1124) if i not in origin_img_id]\n",
    "print(f'非-原图共有：{len(origin_img_id_fei)}张')\n",
    "\n",
    "compute_score(origin_img_id,origin_img_id_fei)"
   ]
  },
  {
   "cell_type": "markdown",
   "metadata": {},
   "source": [
    "# 非肿瘤"
   ]
  },
  {
   "cell_type": "code",
   "execution_count": null,
   "metadata": {},
   "outputs": [],
   "source": [
    "cid = 3\n",
    "ids = coco.getCatIds([str(cid)])[0]\n",
    "origin_img_id = coco.catToImgs[ids]\n",
    "origin_img_id = list(set(origin_img_id))\n",
    "print(f'原图共有：{len(origin_img_id)}张')\n",
    "\n",
    "origin_img_id_fei = [i for i in range(1124) if i not in origin_img_id]\n",
    "print(f'非-原图共有：{len(origin_img_id_fei)}张')\n",
    "\n",
    "compute_score(origin_img_id,origin_img_id_fei)"
   ]
  },
  {
   "cell_type": "code",
   "execution_count": null,
   "metadata": {},
   "outputs": [],
   "source": []
  },
  {
   "cell_type": "code",
   "execution_count": null,
   "metadata": {},
   "outputs": [],
   "source": []
  },
  {
   "cell_type": "code",
   "execution_count": null,
   "metadata": {},
   "outputs": [],
   "source": []
  },
  {
   "cell_type": "code",
   "execution_count": null,
   "metadata": {},
   "outputs": [],
   "source": []
  }
 ],
 "metadata": {
  "kernelspec": {
   "display_name": "Python 3",
   "language": "python",
   "name": "python3"
  }
 },
 "nbformat": 4,
 "nbformat_minor": 4
}
