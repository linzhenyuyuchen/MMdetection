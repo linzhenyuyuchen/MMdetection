{
 "cells": [
  {
   "cell_type": "code",
   "execution_count": 15,
   "metadata": {},
   "outputs": [],
   "source": [
    "from pycocotools.coco import COCO\n",
    "from pycocotools.cocoeval import COCOeval\n",
    "import os\n",
    "import cv2\n",
    "import numpy as np\n",
    "import matplotlib.pyplot as plt\n",
    "import pickle"
   ]
  },
  {
   "cell_type": "code",
   "execution_count": 16,
   "metadata": {},
   "outputs": [
    {
     "name": "stdout",
     "output_type": "stream",
     "text": [
      "Annotation file: /home/coco/annotations3/cocojson_13_val_3.json\n",
      "loading annotations into memory...\n",
      "Done (t=0.05s)\n",
      "creating index...\n",
      "index created!\n"
     ]
    }
   ],
   "source": [
    "annFile = '/home/coco/annotations3/cocojson_13_val_3.json'\n",
    "print(f'Annotation file: {annFile}')\n",
    "coco=COCO(annFile)"
   ]
  },
  {
   "cell_type": "code",
   "execution_count": 17,
   "metadata": {},
   "outputs": [
    {
     "name": "stdout",
     "output_type": "stream",
     "text": [
      "Prediction: 836\n"
     ]
    }
   ],
   "source": [
    "with open(\"/home/mmdetection/work_dirs/dh_faster_rcnn_r50_fpn_1x_coco/result_13_2fen_val3.pkl\",\"rb\") as f:\n",
    "    pred = pickle.load(f)\n",
    "print(\"Prediction:\",len(pred))"
   ]
  },
  {
   "cell_type": "code",
   "execution_count": null,
   "metadata": {},
   "outputs": [],
   "source": []
  },
  {
   "cell_type": "code",
   "execution_count": 18,
   "metadata": {},
   "outputs": [],
   "source": [
    "def compute_score(origin_img_id,origin_img_id_fei):\n",
    "    thr = 0.6\n",
    "    tp = 0\n",
    "    fn = 0\n",
    "    for i in origin_img_id:\n",
    "        f = False\n",
    "        for i in pred[i][cid]:\n",
    "            if i[4]>thr:\n",
    "                f= True\n",
    "        if f:\n",
    "            tp+=1\n",
    "        else:\n",
    "            fn+=1\n",
    "    fp = 0\n",
    "    tn = 0\n",
    "    for i in origin_img_id_fei:\n",
    "        f = False\n",
    "        for i in pred[i][cid]:\n",
    "            if i[4]>thr:\n",
    "                f= True\n",
    "        if f:\n",
    "            fp +=1\n",
    "        else:\n",
    "            tn+=1\n",
    "\n",
    "    sen = tp/ (tp+fn)\n",
    "    spe = tn/ (tn+fp)\n",
    "    f1 = 2*sen*spe/(sen+spe)\n",
    "    print(\"tp,fn : \",tp,fn)\n",
    "    print(\"tn,fp : \",tn,fp)\n",
    "    print(\"Sensitivity: \",sen)\n",
    "    print(\"Specificity: \",spe)\n",
    "    print(\"F1: \",f1)"
   ]
  },
  {
   "cell_type": "code",
   "execution_count": 19,
   "metadata": {},
   "outputs": [],
   "source": [
    "def compute_score2(origin_img_id,origin_img_id_fei):\n",
    "    tp = 0\n",
    "    fn = 0\n",
    "    for i in origin_img_id:\n",
    "        if len(pred[i][cid])>0:\n",
    "            tp+=1\n",
    "        else:\n",
    "            fn+=1\n",
    "    fp = 0\n",
    "    tn = 0\n",
    "    for i in origin_img_id_fei:\n",
    "        if len(pred[i][cid])>0:\n",
    "            fp +=1\n",
    "        else:\n",
    "            tn+=1\n",
    "\n",
    "    sen = tp/ (tp+fn)\n",
    "    spe = tn/ (tn+fp)\n",
    "    f1 = 2*sen*spe/(sen+spe)\n",
    "    print(\"tp,fn : \",tp,fn)\n",
    "    print(\"tn,fp : \",tn,fp)\n",
    "    print(\"Sensitivity: \",sen)\n",
    "    print(\"Specificity: \",spe)\n",
    "    print(\"F1: \",f1)"
   ]
  },
  {
   "cell_type": "markdown",
   "metadata": {},
   "source": [
    "# 非肿瘤"
   ]
  },
  {
   "cell_type": "code",
   "execution_count": 20,
   "metadata": {},
   "outputs": [
    {
     "name": "stdout",
     "output_type": "stream",
     "text": [
      "原图共有：539张\n",
      "非-原图共有：297张\n",
      "tp,fn :  460 79\n",
      "tn,fp :  206 91\n",
      "Sensitivity:  0.8534322820037106\n",
      "Specificity:  0.6936026936026936\n",
      "F1:  0.7652612112059566\n"
     ]
    }
   ],
   "source": [
    "cid = 0\n",
    "ids = coco.getCatIds([str(cid)])[0]\n",
    "origin_img_id = coco.catToImgs[ids]\n",
    "origin_img_id = list(set(origin_img_id))\n",
    "print(f'原图共有：{len(origin_img_id)}张')\n",
    "\n",
    "origin_img_id_fei = [i for i in range(836) if i not in origin_img_id]\n",
    "print(f'非-原图共有：{len(origin_img_id_fei)}张')\n",
    "\n",
    "compute_score(origin_img_id,origin_img_id_fei)"
   ]
  },
  {
   "cell_type": "markdown",
   "metadata": {},
   "source": [
    "# 轻度异形"
   ]
  },
  {
   "cell_type": "code",
   "execution_count": 21,
   "metadata": {},
   "outputs": [
    {
     "name": "stdout",
     "output_type": "stream",
     "text": [
      "原图共有：314张\n",
      "非-原图共有：522张\n",
      "tp,fn :  208 106\n",
      "tn,fp :  440 82\n",
      "Sensitivity:  0.6624203821656051\n",
      "Specificity:  0.842911877394636\n",
      "F1:  0.7418455353089943\n"
     ]
    }
   ],
   "source": [
    "cid = 1\n",
    "ids = coco.getCatIds([str(cid)])[0]\n",
    "origin_img_id = coco.catToImgs[ids]\n",
    "origin_img_id = list(set(origin_img_id))\n",
    "print(f'原图共有：{len(origin_img_id)}张')\n",
    "\n",
    "origin_img_id_fei = [i for i in range(836) if i not in origin_img_id]\n",
    "print(f'非-原图共有：{len(origin_img_id_fei)}张')\n",
    "\n",
    "compute_score(origin_img_id,origin_img_id_fei)"
   ]
  },
  {
   "cell_type": "code",
   "execution_count": null,
   "metadata": {},
   "outputs": [],
   "source": []
  },
  {
   "cell_type": "code",
   "execution_count": null,
   "metadata": {},
   "outputs": [],
   "source": []
  },
  {
   "cell_type": "code",
   "execution_count": null,
   "metadata": {},
   "outputs": [],
   "source": []
  },
  {
   "cell_type": "code",
   "execution_count": null,
   "metadata": {},
   "outputs": [],
   "source": []
  }
 ],
 "metadata": {
  "kernelspec": {
   "display_name": "Python 3",
   "language": "python",
   "name": "python3"
  },
  "language_info": {
   "codemirror_mode": {
    "name": "ipython",
    "version": 3
   },
   "file_extension": ".py",
   "mimetype": "text/x-python",
   "name": "python",
   "nbconvert_exporter": "python",
   "pygments_lexer": "ipython3",
   "version": "3.6.9"
  }
 },
 "nbformat": 4,
 "nbformat_minor": 4
}
