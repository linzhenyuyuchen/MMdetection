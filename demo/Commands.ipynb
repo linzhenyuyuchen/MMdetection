{
 "cells": [
  {
   "cell_type": "markdown",
   "metadata": {},
   "source": [
    "python tests/test_soft_nms.py \n",
    "\n",
    "python ./tools/test.py ./configs/double_heads/dh_faster_rcnn_r50_fpn_1x_coco.py ./work_dirs/dh_faster_rcnn_r50_fpn_1x_coco/epoch_18.pth --out=./work_dirs/dh_faster_rcnn_r50_fpn_1x_coco/result_24.pkl --eval=bbox\n"
   ]
  },
  {
   "cell_type": "code",
   "execution_count": null,
   "metadata": {},
   "outputs": [],
   "source": [
    "CUDA_VISIBLE_DEVICES=0,1 nohup python ./tools/train.py ./configs/double_heads/dh_faster_rcnn_r50_hrnetv2p_1x_coco.py --gpus 2 >dh_faster_rcnn_r50_hrnetv2p_1x_coco.txt &"
   ]
  },
  {
   "cell_type": "code",
   "execution_count": null,
   "metadata": {},
   "outputs": [],
   "source": [
    "CUDA_VISIBLE_DEVICES=0,1 python ./tools/get_flops.py ./configs/double_heads/dh_faster_rcnn_r50_hrnetv2p_1x_coco.py"
   ]
  },
  {
   "cell_type": "code",
   "execution_count": null,
   "metadata": {},
   "outputs": [],
   "source": []
  },
  {
   "cell_type": "code",
   "execution_count": null,
   "metadata": {},
   "outputs": [],
   "source": []
  }
 ],
 "metadata": {
  "kernelspec": {
   "display_name": "Python 3",
   "language": "python",
   "name": "python3"
  },
  "language_info": {
   "codemirror_mode": {
    "name": "ipython",
    "version": 3
   },
   "file_extension": ".py",
   "mimetype": "text/x-python",
   "name": "python",
   "nbconvert_exporter": "python",
   "pygments_lexer": "ipython3",
   "version": "3.6.9"
  }
 },
 "nbformat": 4,
 "nbformat_minor": 4
}
