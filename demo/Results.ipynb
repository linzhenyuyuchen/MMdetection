{
 "cells": [
  {
   "cell_type": "markdown",
   "metadata": {},
   "source": [
    "# cascade_rcnn_r50_fpn_1x\n",
    "\n",
    "python ./tools/test.py ./configs/cascade_rcnn_r50_fpn_1x.py ./work_dirs/cascade_rcnn_r50_fpn_1x/latest.pth --out=result_36.pkl --eval=bbox"
   ]
  },
  {
   "cell_type": "raw",
   "metadata": {},
   "source": [
    "Evaluate annotation type *bbox*\n",
    "DONE (t=1.15s).\n",
    "Accumulating evaluation results...\n",
    "DONE (t=0.24s).\n",
    " Average Precision  (AP) @[ IoU=0.50:0.95 | area=   all | maxDets=100 ] = 0.309\n",
    " Average Precision  (AP) @[ IoU=0.50      | area=   all | maxDets=100 ] = 0.434\n",
    " Average Precision  (AP) @[ IoU=0.75      | area=   all | maxDets=100 ] = 0.346\n",
    " Average Precision  (AP) @[ IoU=0.50:0.95 | area= small | maxDets=100 ] = -1.000\n",
    " Average Precision  (AP) @[ IoU=0.50:0.95 | area=medium | maxDets=100 ] = -1.000\n",
    " Average Precision  (AP) @[ IoU=0.50:0.95 | area= large | maxDets=100 ] = 0.309\n",
    " Average Recall     (AR) @[ IoU=0.50:0.95 | area=   all | maxDets=  1 ] = 0.448\n",
    " Average Recall     (AR) @[ IoU=0.50:0.95 | area=   all | maxDets= 10 ] = 0.651\n",
    " Average Recall     (AR) @[ IoU=0.50:0.95 | area=   all | maxDets=100 ] = 0.660\n",
    " Average Recall     (AR) @[ IoU=0.50:0.95 | area= small | maxDets=100 ] = -1.000\n",
    " Average Recall     (AR) @[ IoU=0.50:0.95 | area=medium | maxDets=100 ] = -1.000\n",
    " Average Recall     (AR) @[ IoU=0.50:0.95 | area= large | maxDets=100 ] = 0.660"
   ]
  },
  {
   "cell_type": "markdown",
   "metadata": {},
   "source": [
    "# cascade_mask_rcnn_r50_fpn_1x\n",
    "\n",
    "python ./tools/test.py ./configs/cascade_mask_rcnn_r50_fpn_1x.py ./work_dirs/cascade_mask_rcnn_r50_fpn_1x/latest.pth --out=result_36.pkl --eval=bbox"
   ]
  },
  {
   "cell_type": "raw",
   "metadata": {},
   "source": [
    "Evaluate annotation type *bbox*\n",
    "DONE (t=1.14s).\n",
    "Accumulating evaluation results...\n",
    "DONE (t=0.24s).\n",
    " Average Precision  (AP) @[ IoU=0.50:0.95 | area=   all | maxDets=100 ] = 0.317\n",
    " Average Precision  (AP) @[ IoU=0.50      | area=   all | maxDets=100 ] = 0.447\n",
    " Average Precision  (AP) @[ IoU=0.75      | area=   all | maxDets=100 ] = 0.357\n",
    " Average Precision  (AP) @[ IoU=0.50:0.95 | area= small | maxDets=100 ] = -1.000\n",
    " Average Precision  (AP) @[ IoU=0.50:0.95 | area=medium | maxDets=100 ] = -1.000\n",
    " Average Precision  (AP) @[ IoU=0.50:0.95 | area= large | maxDets=100 ] = 0.317\n",
    " Average Recall     (AR) @[ IoU=0.50:0.95 | area=   all | maxDets=  1 ] = 0.448\n",
    " Average Recall     (AR) @[ IoU=0.50:0.95 | area=   all | maxDets= 10 ] = 0.648\n",
    " Average Recall     (AR) @[ IoU=0.50:0.95 | area=   all | maxDets=100 ] = 0.655\n",
    " Average Recall     (AR) @[ IoU=0.50:0.95 | area= small | maxDets=100 ] = -1.000\n",
    " Average Recall     (AR) @[ IoU=0.50:0.95 | area=medium | maxDets=100 ] = -1.000\n",
    " Average Recall     (AR) @[ IoU=0.50:0.95 | area= large | maxDets=100 ] = 0.655"
   ]
  },
  {
   "cell_type": "markdown",
   "metadata": {},
   "source": [
    "OHEMSampler\n",
    "\n",
    "soft-nms"
   ]
  },
  {
   "cell_type": "raw",
   "metadata": {},
   "source": [
    " Average Precision  (AP) @[ IoU=0.50:0.95 | area=   all | maxDets=100 ] = 0.331\n",
    " Average Precision  (AP) @[ IoU=0.50      | area=   all | maxDets=100 ] = 0.450\n",
    " Average Precision  (AP) @[ IoU=0.75      | area=   all | maxDets=100 ] = 0.377\n",
    " Average Precision  (AP) @[ IoU=0.50:0.95 | area= small | maxDets=100 ] = -1.000\n",
    " Average Precision  (AP) @[ IoU=0.50:0.95 | area=medium | maxDets=100 ] = -1.000\n",
    " Average Precision  (AP) @[ IoU=0.50:0.95 | area= large | maxDets=100 ] = 0.331\n",
    " Average Recall     (AR) @[ IoU=0.50:0.95 | area=   all | maxDets=  1 ] = 0.465\n",
    " Average Recall     (AR) @[ IoU=0.50:0.95 | area=   all | maxDets= 10 ] = 0.658\n",
    " Average Recall     (AR) @[ IoU=0.50:0.95 | area=   all | maxDets=100 ] = 0.667\n",
    " Average Recall     (AR) @[ IoU=0.50:0.95 | area= small | maxDets=100 ] = -1.000\n",
    " Average Recall     (AR) @[ IoU=0.50:0.95 | area=medium | maxDets=100 ] = -1.000\n",
    " Average Recall     (AR) @[ IoU=0.50:0.95 | area= large | maxDets=100 ] = 0.667"
   ]
  },
  {
   "cell_type": "markdown",
   "metadata": {},
   "source": [
    "# retinanet_r50_fpn_1x\n",
    "\n",
    "python ./tools/test.py ./configs/retinanet_r50_fpn_1x.py ./work_dirs/retinanet_r50_fpn_1x/latest.pth --out=result_retinanet_r50_fpn_1x.pkl --eval=bbox"
   ]
  },
  {
   "cell_type": "raw",
   "metadata": {},
   "source": [
    " Average Precision  (AP) @[ IoU=0.50:0.95 | area=   all | maxDets=100 ] = 0.304\n",
    " Average Precision  (AP) @[ IoU=0.50      | area=   all | maxDets=100 ] = 0.427\n",
    " Average Precision  (AP) @[ IoU=0.75      | area=   all | maxDets=100 ] = 0.345\n",
    " Average Precision  (AP) @[ IoU=0.50:0.95 | area= small | maxDets=100 ] = -1.000\n",
    " Average Precision  (AP) @[ IoU=0.50:0.95 | area=medium | maxDets=100 ] = -1.000\n",
    " Average Precision  (AP) @[ IoU=0.50:0.95 | area= large | maxDets=100 ] = 0.304\n",
    " Average Recall     (AR) @[ IoU=0.50:0.95 | area=   all | maxDets=  1 ] = 0.450\n",
    " Average Recall     (AR) @[ IoU=0.50:0.95 | area=   all | maxDets= 10 ] = 0.663\n",
    " Average Recall     (AR) @[ IoU=0.50:0.95 | area=   all | maxDets=100 ] = 0.689\n",
    " Average Recall     (AR) @[ IoU=0.50:0.95 | area= small | maxDets=100 ] = -1.000\n",
    " Average Recall     (AR) @[ IoU=0.50:0.95 | area=medium | maxDets=100 ] = -1.000\n",
    " Average Recall     (AR) @[ IoU=0.50:0.95 | area= large | maxDets=100 ] = 0.689"
   ]
  },
  {
   "cell_type": "markdown",
   "metadata": {},
   "source": [
    "# faster_rcnn_hrnetv2p_w32_1x\n",
    "\n",
    "python ./tools/test.py ./configs/hrnet/faster_rcnn_hrnetv2p_w32_1x.py /mmdetection/work_dirs/faster_rcnn_hrnetv2p_w32_1x/epoch_36.pth --out=result_faster_rcnn_hrnetv2p_w32_1x1x.pkl --eval=bbox"
   ]
  },
  {
   "cell_type": "raw",
   "metadata": {},
   "source": [
    " Average Precision  (AP) @[ IoU=0.50:0.95 | area=   all | maxDets=100 ] = 0.287\n",
    " Average Precision  (AP) @[ IoU=0.50      | area=   all | maxDets=100 ] = 0.422\n",
    " Average Precision  (AP) @[ IoU=0.75      | area=   all | maxDets=100 ] = 0.324\n",
    " Average Precision  (AP) @[ IoU=0.50:0.95 | area= small | maxDets=100 ] = -1.000\n",
    " Average Precision  (AP) @[ IoU=0.50:0.95 | area=medium | maxDets=100 ] = -1.000\n",
    " Average Precision  (AP) @[ IoU=0.50:0.95 | area= large | maxDets=100 ] = 0.287\n",
    " Average Recall     (AR) @[ IoU=0.50:0.95 | area=   all | maxDets=  1 ] = 0.429\n",
    " Average Recall     (AR) @[ IoU=0.50:0.95 | area=   all | maxDets= 10 ] = 0.632\n",
    " Average Recall     (AR) @[ IoU=0.50:0.95 | area=   all | maxDets=100 ] = 0.642\n",
    " Average Recall     (AR) @[ IoU=0.50:0.95 | area= small | maxDets=100 ] = -1.000\n",
    " Average Recall     (AR) @[ IoU=0.50:0.95 | area=medium | maxDets=100 ] = -1.000\n",
    " Average Recall     (AR) @[ IoU=0.50:0.95 | area= large | maxDets=100 ] = 0.642"
   ]
  },
  {
   "cell_type": "markdown",
   "metadata": {},
   "source": [
    "# dh_faster_rcnn_r50_fpn_1x_coco\n",
    "\n",
    "python ./tools/test.py ./configs/double_heads/dh_faster_rcnn_r50_fpn_1x_coco.py ./work_dirs/dh_faster_rcnn_r50_fpn_1x_coco/epoch_18.pth --out=./work_dirs/dh_faster_rcnn_r50_fpn_1x_coco/result_18.pkl --eval=bbox"
   ]
  },
  {
   "cell_type": "markdown",
   "metadata": {},
   "source": [
    "python ./tools/test.py ./configs/double_heads/dh_faster_rcnn_r50_fpn_1x_coco.py ./work_dirs/dh_faster_rcnn_r50_fpn_1x_coco/epoch_18.pth --format-only --options jsonfile_prefix=/home/mmdetection/work_dirs/dh_faster_rcnn_r50_fpn_1x_coco/result\n",
    "\n",
    "/home/mmdetection/work_dirs/dh_faster_rcnn_r50_fpn_1x_coco/result.bbox.json\n"
   ]
  },
  {
   "cell_type": "raw",
   "metadata": {},
   "source": [
    " Average Precision  (AP) @[ IoU=0.50:0.95 | area=   all | maxDets=100 ] = 0.298\n",
    " Average Precision  (AP) @[ IoU=0.50      | area=   all | maxDets=100 ] = 0.440\n",
    " Average Precision  (AP) @[ IoU=0.75      | area=   all | maxDets=100 ] = 0.335\n",
    " Average Precision  (AP) @[ IoU=0.50:0.95 | area= small | maxDets=100 ] = -1.000\n",
    " Average Precision  (AP) @[ IoU=0.50:0.95 | area=medium | maxDets=100 ] = -1.000\n",
    " Average Precision  (AP) @[ IoU=0.50:0.95 | area= large | maxDets=100 ] = 0.298\n",
    " Average Recall     (AR) @[ IoU=0.50:0.95 | area=   all | maxDets=  1 ] = 0.426\n",
    " Average Recall     (AR) @[ IoU=0.50:0.95 | area=   all | maxDets= 10 ] = 0.666\n",
    " Average Recall     (AR) @[ IoU=0.50:0.95 | area=   all | maxDets=100 ] = 0.694\n",
    " Average Recall     (AR) @[ IoU=0.50:0.95 | area= small | maxDets=100 ] = -1.000\n",
    " Average Recall     (AR) @[ IoU=0.50:0.95 | area=medium | maxDets=100 ] = -1.000\n",
    " Average Recall     (AR) @[ IoU=0.50:0.95 | area= large | maxDets=100 ] = 0.694\n"
   ]
  },
  {
   "cell_type": "markdown",
   "metadata": {},
   "source": [
    "python ./tools/test.py ./configs/double_heads/dh_faster_rcnn_r50_fpn_1x_coco.py ./work_dirs/dh_faster_rcnn_r50_fpn_1x_coco/epoch_18.pth --out=./work_dirs/dh_faster_rcnn_r50_fpn_1x_coco/result_18_2.pkl --eval=bbox"
   ]
  },
  {
   "cell_type": "code",
   "execution_count": null,
   "metadata": {},
   "outputs": [],
   "source": []
  },
  {
   "cell_type": "code",
   "execution_count": null,
   "metadata": {},
   "outputs": [],
   "source": []
  },
  {
   "cell_type": "markdown",
   "metadata": {},
   "source": [
    "# 13 filter"
   ]
  },
  {
   "cell_type": "markdown",
   "metadata": {},
   "source": [
    "# dh_faster_rcnn_r50_fpn_1x_coco\n",
    "\n",
    "CUDA_VISIBLE_DEVICES=0,1 python ./tools/train.py ./configs/double_heads/dh_faster_rcnn_r50_fpn_1x_coco.py --gpus 2"
   ]
  },
  {
   "cell_type": "raw",
   "metadata": {},
   "source": [
    " Average Precision  (AP) @[ IoU=0.50:0.95 | area=   all | maxDets=100 ] = 0.419\n",
    " Average Precision  (AP) @[ IoU=0.50      | area=   all | maxDets=100 ] = 0.596\n",
    " Average Precision  (AP) @[ IoU=0.75      | area=   all | maxDets=100 ] = 0.489\n",
    " Average Precision  (AP) @[ IoU=0.50:0.95 | area= small | maxDets=100 ] = -1.000\n",
    " Average Precision  (AP) @[ IoU=0.50:0.95 | area=medium | maxDets=100 ] = -1.000\n",
    " Average Precision  (AP) @[ IoU=0.50:0.95 | area= large | maxDets=100 ] = 0.428\n",
    " Average Recall     (AR) @[ IoU=0.50:0.95 | area=   all | maxDets=  1 ] = 0.506\n",
    " Average Recall     (AR) @[ IoU=0.50:0.95 | area=   all | maxDets= 10 ] = 0.670\n",
    " Average Recall     (AR) @[ IoU=0.50:0.95 | area=   all | maxDets=100 ] = 0.710\n",
    " Average Recall     (AR) @[ IoU=0.50:0.95 | area= small | maxDets=100 ] = -1.000\n",
    " Average Recall     (AR) @[ IoU=0.50:0.95 | area=medium | maxDets=100 ] = -1.000\n",
    " Average Recall     (AR) @[ IoU=0.50:0.95 | area= large | maxDets=100 ] = 0.710"
   ]
  },
  {
   "cell_type": "markdown",
   "metadata": {},
   "source": [
    "python ./tools/test.py  ./configs/double_heads/dh_faster_rcnn_r50_fpn_1x_coco.py ./work_dirs/dh_faster_rcnn_r50_fpn_1x_coco/result_12.pkl --out=./work_dirs/dh_faster_rcnn_r50_fpn_1x_coco/result_13_2fen_val3.pkl --eval=bbox"
   ]
  },
  {
   "cell_type": "markdown",
   "metadata": {},
   "source": [
    "# faster_rcnn_r50_hrnetv2p_1x_coco\n",
    "\n",
    "CUDA_VISIBLE_DEVICES=0,1,2,3 python ./tools/train.py ./configs/lzy/dh_faster_rcnn_r50_hrnetv2p_1x_coco.py --gpus 4"
   ]
  },
  {
   "cell_type": "raw",
   "metadata": {},
   "source": [
    " Average Precision  (AP) @[ IoU=0.50:0.95 | area=   all | maxDets=100 ] = 0.355\n",
    " Average Precision  (AP) @[ IoU=0.50      | area=   all | maxDets=100 ] = 0.522\n",
    " Average Precision  (AP) @[ IoU=0.75      | area=   all | maxDets=100 ] = 0.413\n",
    " Average Precision  (AP) @[ IoU=0.50:0.95 | area= small | maxDets=100 ] = -1.000\n",
    " Average Precision  (AP) @[ IoU=0.50:0.95 | area=medium | maxDets=100 ] = -1.000\n",
    " Average Precision  (AP) @[ IoU=0.50:0.95 | area= large | maxDets=100 ] = 0.372\n",
    " Average Recall     (AR) @[ IoU=0.50:0.95 | area=   all | maxDets=  1 ] = 0.463\n",
    " Average Recall     (AR) @[ IoU=0.50:0.95 | area=   all | maxDets= 10 ] = 0.659\n",
    " Average Recall     (AR) @[ IoU=0.50:0.95 | area=   all | maxDets=100 ] = 0.690\n",
    " Average Recall     (AR) @[ IoU=0.50:0.95 | area= small | maxDets=100 ] = -1.000\n",
    " Average Recall     (AR) @[ IoU=0.50:0.95 | area=medium | maxDets=100 ] = -1.000\n",
    " Average Recall     (AR) @[ IoU=0.50:0.95 | area= large | maxDets=100 ] = 0.690"
   ]
  },
  {
   "cell_type": "markdown",
   "metadata": {},
   "source": [
    "python ./tools/test.py  ./configs/lzy/dh_faster_rcnn_r50_hrnetv2p_1x_coco.py ./work_dirs/dh_faster_rcnn_r50_hrnetv2p_1x_coco/epoch_12.pth --out=./work_dirs/dh_faster_rcnn_r50_hrnetv2p_1x_coco/result_12.pkl --eval=bbox"
   ]
  },
  {
   "cell_type": "markdown",
   "metadata": {},
   "source": [
    "# faster_rcnn_r50bam_fpn_1x_coco\n",
    "\n",
    "CUDA_VISIBLE_DEVICES=0,1 python ./tools/train.py ./configs/lzy/faster_rcnn_r50bam_fpn_1x_coco.py --gpus 2"
   ]
  },
  {
   "cell_type": "raw",
   "metadata": {},
   "source": [
    " Average Precision  (AP) @[ IoU=0.50:0.95 | area=   all | maxDets=100 ] = 0.368\n",
    " Average Precision  (AP) @[ IoU=0.50      | area=   all | maxDets=100 ] = 0.554\n",
    " Average Precision  (AP) @[ IoU=0.75      | area=   all | maxDets=100 ] = 0.433\n",
    " Average Precision  (AP) @[ IoU=0.50:0.95 | area= small | maxDets=100 ] = -1.000\n",
    " Average Precision  (AP) @[ IoU=0.50:0.95 | area=medium | maxDets=100 ] = -1.000\n",
    " Average Precision  (AP) @[ IoU=0.50:0.95 | area= large | maxDets=100 ] = 0.389\n",
    " Average Recall     (AR) @[ IoU=0.50:0.95 | area=   all | maxDets=  1 ] = 0.451\n",
    " Average Recall     (AR) @[ IoU=0.50:0.95 | area=   all | maxDets= 10 ] = 0.640\n",
    " Average Recall     (AR) @[ IoU=0.50:0.95 | area=   all | maxDets=100 ] = 0.716\n",
    " Average Recall     (AR) @[ IoU=0.50:0.95 | area= small | maxDets=100 ] = -1.000\n",
    " Average Recall     (AR) @[ IoU=0.50:0.95 | area=medium | maxDets=100 ] = -1.000\n",
    " Average Recall     (AR) @[ IoU=0.50:0.95 | area= large | maxDets=100 ] = 0.716\n"
   ]
  },
  {
   "cell_type": "markdown",
   "metadata": {},
   "source": [
    "python ./tools/test.py  ./configs/lzy/faster_rcnn_r50bam_fpn_1x_coco.py ./work_dirs/faster_rcnn_r50bam_fpn_1x_coco/epoch_12.pth --out=./work_dirs/faster_rcnn_r50bam_fpn_1x_coco/result_12.pkl --eval=bbox"
   ]
  },
  {
   "cell_type": "markdown",
   "metadata": {},
   "source": [
    "# dh_faster_rcnn_r50bam_fpn_1x_coco\n",
    "\n",
    "CUDA_VISIBLE_DEVICES=2,3 python ./tools/train.py ./configs/lzy/dh_faster_rcnn_r50bam_fpn_1x_coco.py --gpus 2\n",
    "\n",
    "\n",
    "CUDA_VISIBLE_DEVICES=0,1,2,3 python ./tools/train.py ./configs/lzy/dh_faster_rcnn_r50bam_fpn_1x_coco.py --gpus 4"
   ]
  },
  {
   "cell_type": "raw",
   "metadata": {},
   "source": [
    " Average Precision  (AP) @[ IoU=0.50:0.95 | area=   all | maxDets=100 ] = 0.399\n",
    " Average Precision  (AP) @[ IoU=0.50      | area=   all | maxDets=100 ] = 0.582\n",
    " Average Precision  (AP) @[ IoU=0.75      | area=   all | maxDets=100 ] = 0.474\n",
    " Average Precision  (AP) @[ IoU=0.50:0.95 | area= small | maxDets=100 ] = -1.000\n",
    " Average Precision  (AP) @[ IoU=0.50:0.95 | area=medium | maxDets=100 ] = -1.000\n",
    " Average Precision  (AP) @[ IoU=0.50:0.95 | area= large | maxDets=100 ] = 0.415\n",
    " Average Recall     (AR) @[ IoU=0.50:0.95 | area=   all | maxDets=  1 ] = 0.498\n",
    " Average Recall     (AR) @[ IoU=0.50:0.95 | area=   all | maxDets= 10 ] = 0.678\n",
    " Average Recall     (AR) @[ IoU=0.50:0.95 | area=   all | maxDets=100 ] = 0.729\n",
    " Average Recall     (AR) @[ IoU=0.50:0.95 | area= small | maxDets=100 ] = -1.000\n",
    " Average Recall     (AR) @[ IoU=0.50:0.95 | area=medium | maxDets=100 ] = -1.000\n",
    " Average Recall     (AR) @[ IoU=0.50:0.95 | area= large | maxDets=100 ] = 0.729\n"
   ]
  },
  {
   "cell_type": "markdown",
   "metadata": {},
   "source": [
    "python ./tools/test.py ./configs/lzy/dh_faster_rcnn_r50bam_fpn_1x_coco.py ./work_dirs/dh_faster_rcnn_r50bam_fpn_1x_coco/epoch_12.pth --out=./work_dirs/dh_faster_rcnn_r50bam_fpn_1x_coco/result_12.pkl --eval=bbox"
   ]
  },
  {
   "cell_type": "markdown",
   "metadata": {},
   "source": [
    "# dh_faster_rcnn_r50bam_fpn_1x_coco + OHEM\n",
    "\n",
    "CUDA_VISIBLE_DEVICES=0,1 python ./tools/train.py ./configs/lzy/dh_faster_rcnn_r50bam_fpn_1x_coco.py --gpus 2\n",
    "\n",
    "\n",
    "CUDA_VISIBLE_DEVICES=0,1,2,3 python ./tools/train.py ./configs/lzy/dh_faster_rcnn_r50bam_fpn_1x_coco.py --gpus 4"
   ]
  },
  {
   "cell_type": "raw",
   "metadata": {},
   "source": [
    " Average Precision  (AP) @[ IoU=0.50:0.95 | area=   all | maxDets=100 ] = 0.410\n",
    " Average Precision  (AP) @[ IoU=0.50      | area=   all | maxDets=100 ] = 0.595\n",
    " Average Precision  (AP) @[ IoU=0.75      | area=   all | maxDets=100 ] = 0.474\n",
    " Average Precision  (AP) @[ IoU=0.50:0.95 | area= small | maxDets=100 ] = -1.000\n",
    " Average Precision  (AP) @[ IoU=0.50:0.95 | area=medium | maxDets=100 ] = -1.000\n",
    " Average Precision  (AP) @[ IoU=0.50:0.95 | area= large | maxDets=100 ] = 0.419\n",
    " Average Recall     (AR) @[ IoU=0.50:0.95 | area=   all | maxDets=  1 ] = 0.486\n",
    " Average Recall     (AR) @[ IoU=0.50:0.95 | area=   all | maxDets= 10 ] = 0.692\n",
    " Average Recall     (AR) @[ IoU=0.50:0.95 | area=   all | maxDets=100 ] = 0.737\n",
    " Average Recall     (AR) @[ IoU=0.50:0.95 | area= small | maxDets=100 ] = -1.000\n",
    " Average Recall     (AR) @[ IoU=0.50:0.95 | area=medium | maxDets=100 ] = -1.000\n",
    " Average Recall     (AR) @[ IoU=0.50:0.95 | area= large | maxDets=100 ] = 0.737\n"
   ]
  },
  {
   "cell_type": "markdown",
   "metadata": {},
   "source": [
    "python ./tools/test.py ./configs/lzy/dh_faster_rcnn_r50bam_fpn_1x_coco.py ./work_dirs/dh_faster_rcnn_r50bam_fpn_1x_coco/epoch_12.pth --out=./work_dirs/dh_faster_rcnn_r50bam_fpn_1x_coco/result_12_ohem.pkl --eval=bbox"
   ]
  },
  {
   "cell_type": "code",
   "execution_count": null,
   "metadata": {},
   "outputs": [],
   "source": [
    "# dh_faster_rcnn_r50bamDcn_fpn_1x_coco + OHEM + DCN\n",
    "\n",
    "CUDA_VISIBLE_DEVICES=2,3 python ./tools/train.py ./configs/lzy/dh_faster_rcnn_r50bamDcn_fpn_1x_coco.py --gpus 2\n",
    "\n",
    "CUDA_VISIBLE_DEVICES=0,1 nohup python ./tools/train.py ./configs/lzy/dh_faster_rcnn_r50bamDcn_fpn_1x_coco.py --gpus 2 &\n",
    "\n",
    "CUDA_VISIBLE_DEVICES=0,1,2,3 python ./tools/train.py ./configs/lzy/dh_faster_rcnn_r50bamDcn_fpn_1x_coco.py --gpus 4\n"
   ]
  },
  {
   "cell_type": "code",
   "execution_count": null,
   "metadata": {},
   "outputs": [],
   "source": []
  },
  {
   "cell_type": "code",
   "execution_count": null,
   "metadata": {},
   "outputs": [],
   "source": []
  },
  {
   "cell_type": "code",
   "execution_count": null,
   "metadata": {},
   "outputs": [],
   "source": []
  },
  {
   "cell_type": "code",
   "execution_count": null,
   "metadata": {},
   "outputs": [],
   "source": []
  },
  {
   "cell_type": "code",
   "execution_count": null,
   "metadata": {},
   "outputs": [],
   "source": []
  },
  {
   "cell_type": "markdown",
   "metadata": {},
   "source": [
    "# dh_faster_rcnn_r50_hrnetv2p_1x_coco"
   ]
  },
  {
   "cell_type": "markdown",
   "metadata": {},
   "source": [
    "CUDA_VISIBLE`_DEVICES=0,1,2,3  nohup python ./tools/train.py ./configs/double_heads/dh_faster_rcnn_r50_hrnetv2p_1x_coco.py --gpus 3 >dh_faster_rcnn_r50_hrnetv2p_1x_coco.txt &\n",
    "\n",
    "CUDA_VISIBLE_DEVICES=0,1,2,3 python ./tools/train.py ./configs/double_heads/dh_faster_rcnn_r50_hrnetv2p_1x_coco.py --gpus 4"
   ]
  },
  {
   "cell_type": "markdown",
   "metadata": {},
   "source": [
    "CUDA_VISIBLE_DEVICES=1 nohup python ./tools/train.py ./configs/double_heads/dh_faster_rcnn_r50_fpn_1x_coco.py --gpus 1 >dh_faster_rcnn_r50_fpn_1x_coco.txt &\n",
    "\n",
    "CUDA_VISIBLE_DEVICES=0,1 python ./tools/train.py ./configs/double_heads/dh_faster_rcnn_r50_fpn_1x_coco.py --gpus 2\n",
    "\n",
    "CUDA_VISIBLE_DEVICES=0 python ./tools/train.py ./configs/double_heads/dh_faster_rcnn_r50_fpn_1x_coco.py --gpus 1"
   ]
  },
  {
   "cell_type": "code",
   "execution_count": null,
   "metadata": {},
   "outputs": [],
   "source": []
  },
  {
   "cell_type": "code",
   "execution_count": null,
   "metadata": {},
   "outputs": [],
   "source": []
  },
  {
   "cell_type": "markdown",
   "metadata": {},
   "source": [
    "python ./tools/test.py ./configs/double_heads/dh_faster_rcnn_r50_fpn_1x_coco.py ./work_dirs/dh_faster_rcnn_r50_fpn_1x_coco/epoch_12.pth --out=./work_dirs/dh_faster_rcnn_r50_fpn_1x_coco/result_12_2fen_val4.pkl --eval=bbox\n",
    "\n",
    "\n",
    "\n",
    "CUDA_VISIBLE_DEVICES=1 python ./tools/train.py ./configs/double_heads/dh_faster_rcnn_r50_fpn_1x_coco.py --gpus 1\n",
    "\n",
    "CUDA_VISIBLE_DEVICES=1 nohup python ./tools/train.py ./configs/double_heads/dh_faster_rcnn_r50_fpn_1x_coco.py --gpus 1 >dh_faster_rcnn_r50_fpn_1x_coco.txt &"
   ]
  },
  {
   "cell_type": "code",
   "execution_count": null,
   "metadata": {},
   "outputs": [],
   "source": []
  }
 ],
 "metadata": {
  "kernelspec": {
   "display_name": "Python 3",
   "language": "python",
   "name": "python3"
  },
  "language_info": {
   "codemirror_mode": {
    "name": "ipython",
    "version": 3
   },
   "file_extension": ".py",
   "mimetype": "text/x-python",
   "name": "python",
   "nbconvert_exporter": "python",
   "pygments_lexer": "ipython3",
   "version": "3.6.9"
  }
 },
 "nbformat": 4,
 "nbformat_minor": 4
}
