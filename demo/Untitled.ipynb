{
 "cells": [
  {
   "cell_type": "code",
   "execution_count": 10,
   "metadata": {},
   "outputs": [],
   "source": [
    "import torch\n",
    "\n",
    "# a=(2*3*4)\n",
    "a = torch.rand((2,3,4))\n",
    "# b=(2,2,4)\n",
    "b = torch.rand((2,2,4))\n",
    "\n",
    "b=b.transpose(1, 2)\n"
   ]
  },
  {
   "cell_type": "code",
   "execution_count": 11,
   "metadata": {},
   "outputs": [
    {
     "name": "stdout",
     "output_type": "stream",
     "text": [
      "tensor([[[1.0446, 0.8529],\n",
      "         [1.0174, 0.7808],\n",
      "         [1.0637, 0.8971]],\n",
      "\n",
      "        [[1.4582, 0.1626],\n",
      "         [1.2200, 0.2029],\n",
      "         [1.8388, 0.3766]]])\n"
     ]
    }
   ],
   "source": [
    "\n",
    "# res=(2,3,2),对于a*b，是第一维度不变，而后[3,4] x [4,2]=[3,2]\n",
    "#res[0,:]=a[0,:] x b[0,;];   res[1,:]=a[1,:] x b[1,;] 其中x表示矩阵乘法\n",
    "res = torch.matmul(a, b)  # 维度res=[2,3,2]\n",
    "print(res)  # res2的值等于res"
   ]
  },
  {
   "cell_type": "code",
   "execution_count": 12,
   "metadata": {},
   "outputs": [
    {
     "name": "stdout",
     "output_type": "stream",
     "text": [
      "tensor([[[1.0446, 0.8529],\n",
      "         [1.0174, 0.7808],\n",
      "         [1.0637, 0.8971]],\n",
      "\n",
      "        [[1.4582, 0.1626],\n",
      "         [1.2200, 0.2029],\n",
      "         [1.8388, 0.3766]]])\n"
     ]
    }
   ],
   "source": [
    "\n",
    "res2 = torch.bmm(a, b)  # 维度res2=[2,3,2]\n",
    "print(res2)"
   ]
  },
  {
   "cell_type": "code",
   "execution_count": 13,
   "metadata": {},
   "outputs": [
    {
     "name": "stdout",
     "output_type": "stream",
     "text": [
      "tensor(True)\n"
     ]
    }
   ],
   "source": [
    "print((res == res2).all())"
   ]
  },
  {
   "cell_type": "code",
   "execution_count": null,
   "metadata": {},
   "outputs": [],
   "source": []
  }
 ],
 "metadata": {
  "kernelspec": {
   "display_name": "Python 3",
   "language": "python",
   "name": "python3"
  },
  "language_info": {
   "codemirror_mode": {
    "name": "ipython",
    "version": 3
   },
   "file_extension": ".py",
   "mimetype": "text/x-python",
   "name": "python",
   "nbconvert_exporter": "python",
   "pygments_lexer": "ipython3",
   "version": "3.6.9"
  }
 },
 "nbformat": 4,
 "nbformat_minor": 4
}
