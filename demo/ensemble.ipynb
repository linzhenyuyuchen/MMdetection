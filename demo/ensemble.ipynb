{
 "cells": [
  {
   "cell_type": "code",
   "execution_count": 47,
   "metadata": {},
   "outputs": [],
   "source": [
    "import pickle\n",
    "import numpy as np\n"
   ]
  },
  {
   "cell_type": "code",
   "execution_count": 44,
   "metadata": {},
   "outputs": [],
   "source": [
    "result_path = \"/home/mmdetection/work_dirs/dh_faster_rcnn_r50_fpn_1x_coco/result_18.pkl\"\n",
    "result_path2 = \"/mmdetection/result_retinanet_r50_fpn_1x.pkl\"\n",
    "result_path3 = \"/home/mmdetection/work_dirs/ensemble_1.pkl\"\n",
    "with open(result_path,\"rb\") as f:\n",
    "    dt = pickle.load(f)\n",
    "with open(result_path2,\"rb\") as f:\n",
    "    dt2 = pickle.load(f)"
   ]
  },
  {
   "cell_type": "code",
   "execution_count": 36,
   "metadata": {},
   "outputs": [],
   "source": [
    "dt3 = []\n",
    "for i in range(1124):\n",
    "    tmp = []\n",
    "    for j in range(5):\n",
    "        a = np.concatenate((dt[i][j],dt2[i][j]))\n",
    "        tmp.append(a)\n",
    "    dt3.append(tmp)"
   ]
  },
  {
   "cell_type": "code",
   "execution_count": 42,
   "metadata": {},
   "outputs": [],
   "source": [
    "with open(result_path3,\"wb\") as f:\n",
    "    pickle.dump(dt3,f)"
   ]
  },
  {
   "cell_type": "code",
   "execution_count": null,
   "metadata": {},
   "outputs": [],
   "source": []
  },
  {
   "cell_type": "markdown",
   "metadata": {},
   "source": [
    "# run command"
   ]
  },
  {
   "cell_type": "markdown",
   "metadata": {},
   "source": [
    "python tests/test_soft_nms.py .pkl"
   ]
  },
  {
   "cell_type": "code",
   "execution_count": 50,
   "metadata": {},
   "outputs": [],
   "source": []
  },
  {
   "cell_type": "code",
   "execution_count": 55,
   "metadata": {},
   "outputs": [],
   "source": []
  },
  {
   "cell_type": "code",
   "execution_count": null,
   "metadata": {},
   "outputs": [],
   "source": []
  },
  {
   "cell_type": "code",
   "execution_count": null,
   "metadata": {},
   "outputs": [],
   "source": []
  }
 ],
 "metadata": {
  "kernelspec": {
   "display_name": "Python 3",
   "language": "python",
   "name": "python3"
  },
  "language_info": {
   "codemirror_mode": {
    "name": "ipython",
    "version": 3
   },
   "file_extension": ".py",
   "mimetype": "text/x-python",
   "name": "python",
   "nbconvert_exporter": "python",
   "pygments_lexer": "ipython3",
   "version": "3.6.9"
  }
 },
 "nbformat": 4,
 "nbformat_minor": 4
}
