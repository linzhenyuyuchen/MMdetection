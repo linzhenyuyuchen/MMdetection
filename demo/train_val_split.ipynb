{
 "cells": [
  {
   "cell_type": "code",
   "execution_count": 7,
   "metadata": {},
   "outputs": [],
   "source": [
    "from pycocotools.coco import COCO\n",
    "from pycocotools.cocoeval import COCOeval\n",
    "import os\n",
    "import cv2\n",
    "import numpy as np\n",
    "import matplotlib.pyplot as plt\n",
    "import pickle"
   ]
  },
  {
   "cell_type": "code",
   "execution_count": 8,
   "metadata": {},
   "outputs": [
    {
     "name": "stdout",
     "output_type": "stream",
     "text": [
      "Annotation file: /home/coco/annotations/cocojson_val_1.json\n",
      "loading annotations into memory...\n",
      "Done (t=0.06s)\n",
      "creating index...\n",
      "index created!\n"
     ]
    }
   ],
   "source": [
    "annFile = '/home/coco/annotations/cocojson_val_1.json'\n",
    "print(f'Annotation file: {annFile}')\n",
    "coco=COCO(annFile)"
   ]
  },
  {
   "cell_type": "code",
   "execution_count": 9,
   "metadata": {},
   "outputs": [
    {
     "name": "stdout",
     "output_type": "stream",
     "text": [
      "原图共有：235张\n",
      "非-原图共有：889张\n"
     ]
    }
   ],
   "source": [
    "cid = 0\n",
    "ids = coco.getCatIds([str(cid)])[0]\n",
    "origin_img_id = coco.catToImgs[ids]\n",
    "origin_img_id = list(set(origin_img_id))\n",
    "print(f'原图共有：{len(origin_img_id)}张')\n",
    "\n",
    "origin_img_id_fei = [i for i in range(1124) if i not in origin_img_id]\n",
    "print(f'非-原图共有：{len(origin_img_id_fei)}张')\n"
   ]
  },
  {
   "cell_type": "code",
   "execution_count": 10,
   "metadata": {},
   "outputs": [
    {
     "name": "stdout",
     "output_type": "stream",
     "text": [
      "原图共有：302张\n",
      "非-原图共有：822张\n"
     ]
    }
   ],
   "source": [
    "cid = 1\n",
    "ids = coco.getCatIds([str(cid)])[0]\n",
    "origin_img_id = coco.catToImgs[ids]\n",
    "origin_img_id = list(set(origin_img_id))\n",
    "print(f'原图共有：{len(origin_img_id)}张')\n",
    "\n",
    "origin_img_id_fei = [i for i in range(1124) if i not in origin_img_id]\n",
    "print(f'非-原图共有：{len(origin_img_id_fei)}张')\n"
   ]
  },
  {
   "cell_type": "code",
   "execution_count": 11,
   "metadata": {},
   "outputs": [
    {
     "name": "stdout",
     "output_type": "stream",
     "text": [
      "原图共有：115张\n",
      "非-原图共有：1009张\n"
     ]
    }
   ],
   "source": [
    "cid = 2\n",
    "ids = coco.getCatIds([str(cid)])[0]\n",
    "origin_img_id = coco.catToImgs[ids]\n",
    "origin_img_id = list(set(origin_img_id))\n",
    "print(f'原图共有：{len(origin_img_id)}张')\n",
    "\n",
    "origin_img_id_fei = [i for i in range(1124) if i not in origin_img_id]\n",
    "print(f'非-原图共有：{len(origin_img_id_fei)}张')\n"
   ]
  },
  {
   "cell_type": "code",
   "execution_count": 12,
   "metadata": {},
   "outputs": [
    {
     "name": "stdout",
     "output_type": "stream",
     "text": [
      "原图共有：528张\n",
      "非-原图共有：596张\n"
     ]
    }
   ],
   "source": [
    "cid = 3\n",
    "ids = coco.getCatIds([str(cid)])[0]\n",
    "origin_img_id = coco.catToImgs[ids]\n",
    "origin_img_id = list(set(origin_img_id))\n",
    "print(f'原图共有：{len(origin_img_id)}张')\n",
    "\n",
    "origin_img_id_fei = [i for i in range(1124) if i not in origin_img_id]\n",
    "print(f'非-原图共有：{len(origin_img_id_fei)}张')\n"
   ]
  },
  {
   "cell_type": "code",
   "execution_count": null,
   "metadata": {},
   "outputs": [],
   "source": []
  }
 ],
 "metadata": {
  "kernelspec": {
   "display_name": "Python 3",
   "language": "python",
   "name": "python3"
  },
  "language_info": {
   "codemirror_mode": {
    "name": "ipython",
    "version": 3
   },
   "file_extension": ".py",
   "mimetype": "text/x-python",
   "name": "python",
   "nbconvert_exporter": "python",
   "pygments_lexer": "ipython3",
   "version": "3.6.9"
  }
 },
 "nbformat": 4,
 "nbformat_minor": 4
}
