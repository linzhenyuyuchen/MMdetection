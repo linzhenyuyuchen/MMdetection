{
 "cells": [
  {
   "cell_type": "code",
   "execution_count": 1,
   "metadata": {},
   "outputs": [],
   "source": [
    "import os\n",
    "\n",
    "import mmdet.datasets\n",
    "import mmdet.apis\n",
    "import mmcv"
   ]
  },
  {
   "cell_type": "code",
   "execution_count": 2,
   "metadata": {},
   "outputs": [],
   "source": [
    "checkpoint_path = \"../work_dirs/dh_faster_rcnn_r50_hrnetv2p_1x_coco/epoch_12.pth\"\n",
    "config_path = \"../configs/lzy/dh_faster_rcnn_r50_hrnetv2p_1x_coco.py\"\n",
    "\n",
    "cfg = mmcv.Config.fromfile(config_path)\n",
    "cfg.model.pretrained = None\n",
    "cfg.data.test.test_mode = True\n",
    "cfg.test_cfg.max_per_img = 100 # Set to 100 instead of 200 as CustomDataset.evaluate has no maxDets"
   ]
  },
  {
   "cell_type": "code",
   "execution_count": 3,
   "metadata": {},
   "outputs": [
    {
     "name": "stdout",
     "output_type": "stream",
     "text": [
      "loading annotations into memory...\n",
      "Done (t=0.10s)\n",
      "creating index...\n",
      "index created!\n"
     ]
    }
   ],
   "source": [
    "test_dataset = mmdet.datasets.build_dataset(cfg.data.test)\n",
    "test_dataloader = mmdet.datasets.build_dataloader(\n",
    "    test_dataset,\n",
    "    samples_per_gpu=1,\n",
    "    workers_per_gpu=cfg.data.workers_per_gpu,\n",
    "    dist=False,\n",
    "    shuffle=False\n",
    ")"
   ]
  },
  {
   "cell_type": "code",
   "execution_count": 4,
   "metadata": {},
   "outputs": [],
   "source": [
    "raw_model = mmdet.models.build_detector(cfg.model, train_cfg=None, test_cfg=cfg.test_cfg)\n",
    "checkpoint = mmcv.runner.load_checkpoint(raw_model, checkpoint_path, map_location='cpu')\n",
    "raw_model.CLASSES = test_dataset.CLASSES\n",
    "model = mmcv.parallel.MMDataParallel(raw_model, device_ids=[0])"
   ]
  },
  {
   "cell_type": "code",
   "execution_count": 5,
   "metadata": {},
   "outputs": [
    {
     "name": "stdout",
     "output_type": "stream",
     "text": [
      "[>>>>>>>>>>>>>>>>>>>>>>>>>>>>>>] 836/836, 9.3 task/s, elapsed: 90s, ETA:     0s"
     ]
    }
   ],
   "source": [
    "results = mmdet.apis.single_gpu_test(model, test_dataloader)"
   ]
  },
  {
   "cell_type": "code",
   "execution_count": 6,
   "metadata": {},
   "outputs": [
    {
     "name": "stdout",
     "output_type": "stream",
     "text": [
      "\n",
      "Evaluating bbox...\n",
      "Loading and preparing results...\n",
      "DONE (t=0.24s)\n",
      "creating index...\n",
      "index created!\n",
      "Running per image evaluation...\n",
      "Evaluate annotation type *bbox*\n",
      "DONE (t=2.35s).\n",
      "Accumulating evaluation results...\n",
      "DONE (t=0.34s).\n",
      " Average Precision  (AP) @[ IoU=0.50:0.95 | area=   all | maxDets=100 ] = 0.356\n",
      " Average Precision  (AP) @[ IoU=0.50      | area=   all | maxDets=100 ] = 0.524\n",
      " Average Precision  (AP) @[ IoU=0.75      | area=   all | maxDets=100 ] = 0.413\n",
      " Average Precision  (AP) @[ IoU=0.50:0.95 | area= small | maxDets=100 ] = -1.000\n",
      " Average Precision  (AP) @[ IoU=0.50:0.95 | area=medium | maxDets=100 ] = -1.000\n",
      " Average Precision  (AP) @[ IoU=0.50:0.95 | area= large | maxDets=100 ] = 0.373\n",
      " Average Recall     (AR) @[ IoU=0.50:0.95 | area=   all | maxDets=  1 ] = 0.463\n",
      " Average Recall     (AR) @[ IoU=0.50:0.95 | area=   all | maxDets= 10 ] = 0.662\n",
      " Average Recall     (AR) @[ IoU=0.50:0.95 | area=   all | maxDets=100 ] = 0.711\n",
      " Average Recall     (AR) @[ IoU=0.50:0.95 | area= small | maxDets=100 ] = -1.000\n",
      " Average Recall     (AR) @[ IoU=0.50:0.95 | area=medium | maxDets=100 ] = -1.000\n",
      " Average Recall     (AR) @[ IoU=0.50:0.95 | area= large | maxDets=100 ] = 0.711\n"
     ]
    },
    {
     "data": {
      "text/plain": [
       "{'bbox_mAP': 0.356,\n",
       " 'bbox_mAP_50': 0.524,\n",
       " 'bbox_mAP_75': 0.413,\n",
       " 'bbox_mAP_s': -1.0,\n",
       " 'bbox_mAP_m': -1.0,\n",
       " 'bbox_mAP_l': 0.373,\n",
       " 'bbox_mAP_copypaste': '0.356 0.524 0.413 -1.000 -1.000 0.373'}"
      ]
     },
     "execution_count": 6,
     "metadata": {},
     "output_type": "execute_result"
    }
   ],
   "source": [
    "test_dataset.evaluate(results)"
   ]
  },
  {
   "cell_type": "code",
   "execution_count": 7,
   "metadata": {},
   "outputs": [
    {
     "name": "stdout",
     "output_type": "stream",
     "text": [
      "\n",
      "+-------+-----+-------+--------+-------+\n",
      "| class | gts | dets  | recall | ap    |\n",
      "+-------+-----+-------+--------+-------+\n",
      "| 0     | 673 | 19102 | 0.973  | 0.742 |\n",
      "| 1     | 431 | 19021 | 0.940  | 0.308 |\n",
      "+-------+-----+-------+--------+-------+\n",
      "| mAP   |     |       |        | 0.525 |\n",
      "+-------+-----+-------+--------+-------+\n"
     ]
    },
    {
     "data": {
      "text/plain": [
       "{'mAP': 0.5250895023345947}"
      ]
     },
     "execution_count": 7,
     "metadata": {},
     "output_type": "execute_result"
    }
   ],
   "source": [
    "super(type(test_dataset), test_dataset).evaluate(results, iou_thr=0.5)"
   ]
  },
  {
   "cell_type": "code",
   "execution_count": 8,
   "metadata": {},
   "outputs": [
    {
     "name": "stdout",
     "output_type": "stream",
     "text": [
      "\n",
      "+-------+-----+-------+--------+-------+\n",
      "| class | gts | dets  | recall | ap    |\n",
      "+-------+-----+-------+--------+-------+\n",
      "| 0     | 673 | 19102 | 0.820  | 0.527 |\n",
      "| 1     | 431 | 19021 | 0.652  | 0.150 |\n",
      "+-------+-----+-------+--------+-------+\n",
      "| mAP   |     |       |        | 0.339 |\n",
      "+-------+-----+-------+--------+-------+\n"
     ]
    },
    {
     "data": {
      "text/plain": [
       "{'mAP': 0.33879756927490234}"
      ]
     },
     "execution_count": 8,
     "metadata": {},
     "output_type": "execute_result"
    }
   ],
   "source": [
    "super(type(test_dataset), test_dataset).evaluate(results, iou_thr=0.8)"
   ]
  },
  {
   "cell_type": "code",
   "execution_count": 9,
   "metadata": {},
   "outputs": [
    {
     "name": "stdout",
     "output_type": "stream",
     "text": [
      "\n",
      "+-------+-----+-------+--------+-------+\n",
      "| class | gts | dets  | recall | ap    |\n",
      "+-------+-----+-------+--------+-------+\n",
      "| 0     | 673 | 19102 | 0.982  | 0.764 |\n",
      "| 1     | 431 | 19021 | 0.961  | 0.339 |\n",
      "+-------+-----+-------+--------+-------+\n",
      "| mAP   |     |       |        | 0.552 |\n",
      "+-------+-----+-------+--------+-------+\n"
     ]
    },
    {
     "data": {
      "text/plain": [
       "{'mAP': 0.5517555475234985}"
      ]
     },
     "execution_count": 9,
     "metadata": {},
     "output_type": "execute_result"
    }
   ],
   "source": [
    "super(type(test_dataset), test_dataset).evaluate(results, iou_thr=0.3)"
   ]
  },
  {
   "cell_type": "code",
   "execution_count": null,
   "metadata": {},
   "outputs": [],
   "source": []
  }
 ],
 "metadata": {
  "kernelspec": {
   "display_name": "Python 3",
   "language": "python",
   "name": "python3"
  },
  "language_info": {
   "codemirror_mode": {
    "name": "ipython",
    "version": 3
   },
   "file_extension": ".py",
   "mimetype": "text/x-python",
   "name": "python",
   "nbconvert_exporter": "python",
   "pygments_lexer": "ipython3",
   "version": "3.6.9"
  }
 },
 "nbformat": 4,
 "nbformat_minor": 4
}
